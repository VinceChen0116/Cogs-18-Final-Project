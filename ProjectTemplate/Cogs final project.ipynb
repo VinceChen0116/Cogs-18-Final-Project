{
 "cells": [
  {
   "cell_type": "markdown",
   "metadata": {},
   "source": [
    " # My project Description\n"
   ]
  },
  {
   "cell_type": "markdown",
   "metadata": {},
   "source": [
    "The project I created is a Caesar Cipher with both encryption and decryption abilities. I first ask users to input shift bit, then encrypt or decrypt message and then whether they want encryption or decryption all through I/O. Then Based on the users' answer, I created a main function that takes all users' answers as inputs and then output the correct encrypted or decrypted answer."
   ]
  },
  {
   "cell_type": "markdown",
   "metadata": {},
   "source": [
    "# My Code Part"
   ]
  },
  {
   "cell_type": "code",
   "execution_count": 2,
   "metadata": {},
   "outputs": [
    {
     "name": "stdout",
     "output_type": "stream",
     "text": [
      "Enter the Encryption/Decryption shift code(integer):1\n"
     ]
    }
   ],
   "source": [
    "code= input('Enter the Encryption/Decryption shift code(integer):')\n",
    "\n",
    "# Ask users to input how many shift bits they would like to achieve. For example, if shift bit is 1, then the\n",
    "# encrypted or decrypted message will shift 1 bit from left or right depends on encryption or decryption.\n"
   ]
  },
  {
   "cell_type": "code",
   "execution_count": 3,
   "metadata": {},
   "outputs": [
    {
     "name": "stdout",
     "output_type": "stream",
     "text": [
      "Enter the message you want to encrypt or decrypt:1\n"
     ]
    }
   ],
   "source": [
    "code=int(code)\n",
    "message = input('Enter the message you want to encrypt or decrypt:')\n",
    "\n",
    "# Ask the users to input the message they want to encrypt or decrypt.\n",
    "# For my code, ecnryption or decryption only works for letter, the rest stays the same.\n"
   ]
  },
  {
   "cell_type": "code",
   "execution_count": 4,
   "metadata": {},
   "outputs": [
    {
     "name": "stdout",
     "output_type": "stream",
     "text": [
      "enter whether you want to encrypt(input 1) or decrypt(input 2):1\n"
     ]
    }
   ],
   "source": [
    "EDtype = input('enter whether you want to encrypt(input 1) or decrypt(input 2):')\n",
    "# Ask users to choose whether they would like to encrypt or decryt."
   ]
  },
  {
   "cell_type": "code",
   "execution_count": 15,
   "metadata": {},
   "outputs": [],
   "source": [
    "from my_module.functions import encryption, decryption,mainfunction\n",
    "\n",
    "# import functions from functions.py file."
   ]
  },
  {
   "cell_type": "code",
   "execution_count": null,
   "metadata": {},
   "outputs": [],
   "source": []
  }
 ],
 "metadata": {
  "kernelspec": {
   "display_name": "Python 3",
   "language": "python",
   "name": "python3"
  },
  "language_info": {
   "codemirror_mode": {
    "name": "ipython",
    "version": 3
   },
   "file_extension": ".py",
   "mimetype": "text/x-python",
   "name": "python",
   "nbconvert_exporter": "python",
   "pygments_lexer": "ipython3",
   "version": "3.7.1"
  }
 },
 "nbformat": 4,
 "nbformat_minor": 2
}
